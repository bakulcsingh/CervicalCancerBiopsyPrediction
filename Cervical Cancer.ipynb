{
 "cells": [
  {
   "cell_type": "code",
   "execution_count": 11,
   "metadata": {
    "collapsed": true
   },
   "outputs": [],
   "source": [
    "import sklearn as sk\n",
    "import numpy as np\n",
    "import pandas as pd"
   ]
  },
  {
   "cell_type": "code",
   "execution_count": 36,
   "metadata": {
    "collapsed": true
   },
   "outputs": [],
   "source": [
    "from sklearn.model_selection import train_test_split\n",
    "from sklearn.model_selection import cross_val_score\n",
    "from sklearn.linear_model import Perceptron"
   ]
  },
  {
   "cell_type": "code",
   "execution_count": 15,
   "metadata": {},
   "outputs": [],
   "source": [
    "ccd = pd.read_csv('Cervical Cancer Data.csv', header=0)"
   ]
  },
  {
   "cell_type": "code",
   "execution_count": 16,
   "metadata": {
    "collapsed": true
   },
   "outputs": [],
   "source": [
    "data=ccd.get_values()"
   ]
  },
  {
   "cell_type": "code",
   "execution_count": 17,
   "metadata": {
    "collapsed": true
   },
   "outputs": [],
   "source": [
    "X=data[:,0:31]"
   ]
  },
  {
   "cell_type": "code",
   "execution_count": 18,
   "metadata": {
    "collapsed": true
   },
   "outputs": [],
   "source": [
    "y=data[:,32]"
   ]
  },
  {
   "cell_type": "code",
   "execution_count": 19,
   "metadata": {
    "collapsed": true
   },
   "outputs": [],
   "source": [
    "y_cancerous = y[y==1]\n",
    "X_cancerous = X[y==1]\n",
    "X_non_cancerous  = X[y==0]\n",
    "y_non_cancerous = y[y==0]\n",
    "X_cancerous_train, X_cancerous_test, y_cancerous_train, y_cancerous_test = train_test_split(X_cancerous, y_cancerous, test_size=1/7, random_state=None)\n",
    "X_non_cancerous_train, X_non_cancerous_test, y_non_cancerous_train, y_non_cancerous_test = train_test_split(X_non_cancerous, y_non_cancerous, test_size=1/7, random_state=None)"
   ]
  },
  {
   "cell_type": "code",
   "execution_count": 29,
   "metadata": {
    "collapsed": true
   },
   "outputs": [],
   "source": [
    "\n",
    "X_train, X_test, y_train, y_test = train_test_split(X, y, test_size=1/8, random_state=None)"
   ]
  },
  {
   "cell_type": "code",
   "execution_count": 37,
   "metadata": {},
   "outputs": [
    {
     "ename": "TypeError",
     "evalue": "__init__() got an unexpected keyword argument 'max_iter'",
     "output_type": "error",
     "traceback": [
      "\u001b[0;31m---------------------------------------------------------------------------\u001b[0m",
      "\u001b[0;31mTypeError\u001b[0m                                 Traceback (most recent call last)",
      "\u001b[0;32m<ipython-input-37-586c8c294346>\u001b[0m in \u001b[0;36m<module>\u001b[0;34m()\u001b[0m\n\u001b[0;32m----> 1\u001b[0;31m \u001b[0mperceptron_model_normal\u001b[0m \u001b[0;34m=\u001b[0m \u001b[0mPerceptron\u001b[0m\u001b[0;34m(\u001b[0m\u001b[0mmax_iter\u001b[0m\u001b[0;34m=\u001b[0m\u001b[0;36m1000\u001b[0m\u001b[0;34m,\u001b[0m \u001b[0mtol\u001b[0m\u001b[0;34m=\u001b[0m\u001b[0;32mNone\u001b[0m\u001b[0;34m)\u001b[0m\u001b[0;34m\u001b[0m\u001b[0m\n\u001b[0m\u001b[1;32m      2\u001b[0m \u001b[0mperceptron_model_proportional\u001b[0m \u001b[0;34m=\u001b[0m \u001b[0mPerceptron\u001b[0m\u001b[0;34m(\u001b[0m\u001b[0mmax_iter\u001b[0m\u001b[0;34m=\u001b[0m\u001b[0;36m1000\u001b[0m\u001b[0;34m,\u001b[0m \u001b[0mtol\u001b[0m\u001b[0;34m=\u001b[0m\u001b[0;32mNone\u001b[0m\u001b[0;34m)\u001b[0m\u001b[0;34m\u001b[0m\u001b[0m\n",
      "\u001b[0;31mTypeError\u001b[0m: __init__() got an unexpected keyword argument 'max_iter'"
     ]
    }
   ],
   "source": [
    "perceptron_model_normal = Perceptron(max_iter=1000, tol=None)\n",
    "perceptron_model_proportional = Perceptron(max_iter=1000, tol=None)\n"
   ]
  },
  {
   "cell_type": "code",
   "execution_count": 34,
   "metadata": {
    "collapsed": true
   },
   "outputs": [],
   "source": [
    "X_train_proportional = np.concatenate((X_cancerous_train,X_non_cancerous_train))\n",
    "y_train_proportional = np.concatenate((y_cancerous_train,y_non_cancerous_train))"
   ]
  },
  {
   "cell_type": "code",
   "execution_count": 35,
   "metadata": {},
   "outputs": [
    {
     "ename": "NameError",
     "evalue": "name 'perceptron_model_normal' is not defined",
     "output_type": "error",
     "traceback": [
      "\u001b[0;31m---------------------------------------------------------------------------\u001b[0m",
      "\u001b[0;31mNameError\u001b[0m                                 Traceback (most recent call last)",
      "\u001b[0;32m<ipython-input-35-eafe3b31a15d>\u001b[0m in \u001b[0;36m<module>\u001b[0;34m()\u001b[0m\n\u001b[0;32m----> 1\u001b[0;31m \u001b[0mperceptron_model_normal\u001b[0m\u001b[0;34m.\u001b[0m\u001b[0mfit\u001b[0m\u001b[0;34m(\u001b[0m\u001b[0mX_train\u001b[0m\u001b[0;34m,\u001b[0m\u001b[0my_train\u001b[0m\u001b[0;34m)\u001b[0m\u001b[0;34m\u001b[0m\u001b[0m\n\u001b[0m\u001b[1;32m      2\u001b[0m \u001b[0mperceptron_model_proportional\u001b[0m\u001b[0;34m.\u001b[0m\u001b[0mfit\u001b[0m\u001b[0;34m(\u001b[0m\u001b[0mX_train_proportional\u001b[0m\u001b[0;34m,\u001b[0m \u001b[0my_train_proportional\u001b[0m\u001b[0;34m)\u001b[0m\u001b[0;34m\u001b[0m\u001b[0m\n",
      "\u001b[0;31mNameError\u001b[0m: name 'perceptron_model_normal' is not defined"
     ]
    }
   ],
   "source": [
    "perceptron_model_normal.fit(X_train,y_train)\n",
    "perceptron_model_proportional.fit(X_train_proportional, y_train_proportional)"
   ]
  },
  {
   "cell_type": "code",
   "execution_count": null,
   "metadata": {
    "collapsed": true
   },
   "outputs": [],
   "source": [
    "from sklearn.model_selection import cross_val_score"
   ]
  },
  {
   "cell_type": "code",
   "execution_count": null,
   "metadata": {},
   "outputs": [],
   "source": [
    "score_cv_normal = np.average(cross_val_score(perceptron_model_normal, X_train, y_train, cv=10))\n",
    "score_cv_proportional = np.average(cross_val_score(perceptron_model_proportional, X_train_proportional, y_train_proportional, cv=10))\n",
    "print(score_cv_normal)\n",
    "print(score_cv_proportional)"
   ]
  },
  {
   "cell_type": "code",
   "execution_count": null,
   "metadata": {},
   "outputs": [],
   "source": [
    "perceptron_model_normal.coef_\n",
    "perceptron_model_proportional.coef_"
   ]
  },
  {
   "cell_type": "code",
   "execution_count": 6,
   "metadata": {
    "collapsed": true
   },
   "outputs": [],
   "source": [
    "from sklearn.ensemble import RandomForestClassifier\n",
    "randomforest_model_normal=RandomForestClassifier(min_samples_leaf=10,n_estimators=100)\n",
    "randomforest_model_proportional = RandomForestClassifier(min_samples_leaf=10,n_estimators=100)"
   ]
  },
  {
   "cell_type": "code",
   "execution_count": 7,
   "metadata": {},
   "outputs": [
    {
     "ename": "NameError",
     "evalue": "name 'X_train' is not defined",
     "output_type": "error",
     "traceback": [
      "\u001b[0;31m---------------------------------------------------------------------------\u001b[0m",
      "\u001b[0;31mNameError\u001b[0m                                 Traceback (most recent call last)",
      "\u001b[0;32m<ipython-input-7-d0a0564ea154>\u001b[0m in \u001b[0;36m<module>\u001b[0;34m()\u001b[0m\n\u001b[0;32m----> 1\u001b[0;31m \u001b[0mrandomforest_model_normal\u001b[0m\u001b[0;34m.\u001b[0m\u001b[0mfit\u001b[0m\u001b[0;34m(\u001b[0m\u001b[0mX_train\u001b[0m\u001b[0;34m,\u001b[0m\u001b[0my_train\u001b[0m\u001b[0;34m)\u001b[0m\u001b[0;34m\u001b[0m\u001b[0m\n\u001b[0m\u001b[1;32m      2\u001b[0m \u001b[0mrandomforest_model_proportional\u001b[0m\u001b[0;34m.\u001b[0m\u001b[0mfit\u001b[0m\u001b[0;34m(\u001b[0m\u001b[0mX_train_proportional\u001b[0m\u001b[0;34m,\u001b[0m \u001b[0my_train_proportional\u001b[0m\u001b[0;34m)\u001b[0m\u001b[0;34m\u001b[0m\u001b[0m\n",
      "\u001b[0;31mNameError\u001b[0m: name 'X_train' is not defined"
     ]
    }
   ],
   "source": [
    "randomforest_model_normal.fit(X_train,y_train)\n",
    "randomforest_model_proportional.fit(X_train_proportional, y_train_proportional)"
   ]
  },
  {
   "cell_type": "code",
   "execution_count": 8,
   "metadata": {},
   "outputs": [
    {
     "ename": "NameError",
     "evalue": "name 'perceptron_model_normal' is not defined",
     "output_type": "error",
     "traceback": [
      "\u001b[0;31m---------------------------------------------------------------------------\u001b[0m",
      "\u001b[0;31mNameError\u001b[0m                                 Traceback (most recent call last)",
      "\u001b[0;32m<ipython-input-8-5ade0fb650e0>\u001b[0m in \u001b[0;36m<module>\u001b[0;34m()\u001b[0m\n\u001b[1;32m      1\u001b[0m \u001b[0;31m#For Trial 0\u001b[0m\u001b[0;34m\u001b[0m\u001b[0;34m\u001b[0m\u001b[0m\n\u001b[1;32m      2\u001b[0m \u001b[0;34m\u001b[0m\u001b[0m\n\u001b[0;32m----> 3\u001b[0;31m \u001b[0mtrial_0_perceptron_normal\u001b[0m \u001b[0;34m=\u001b[0m \u001b[0mperceptron_model_normal\u001b[0m\u001b[0;34m.\u001b[0m\u001b[0mscore\u001b[0m\u001b[0;34m(\u001b[0m\u001b[0mX_train\u001b[0m\u001b[0;34m,\u001b[0m\u001b[0my_train\u001b[0m\u001b[0;34m)\u001b[0m\u001b[0;34m\u001b[0m\u001b[0m\n\u001b[0m\u001b[1;32m      4\u001b[0m \u001b[0mtrial_0_randomforest_normal\u001b[0m \u001b[0;34m=\u001b[0m \u001b[0mrandomforest_model_normal\u001b[0m\u001b[0;34m.\u001b[0m\u001b[0mscore\u001b[0m\u001b[0;34m(\u001b[0m\u001b[0mX_train\u001b[0m\u001b[0;34m,\u001b[0m\u001b[0my_train\u001b[0m\u001b[0;34m)\u001b[0m\u001b[0;34m\u001b[0m\u001b[0m\n\u001b[1;32m      5\u001b[0m \u001b[0mtrial_0_perceptron_cv_normal\u001b[0m \u001b[0;34m=\u001b[0m \u001b[0mnp\u001b[0m\u001b[0;34m.\u001b[0m\u001b[0maverage\u001b[0m\u001b[0;34m(\u001b[0m\u001b[0mcross_val_score\u001b[0m\u001b[0;34m(\u001b[0m\u001b[0mperceptron_model_normal\u001b[0m\u001b[0;34m,\u001b[0m\u001b[0mX_train\u001b[0m\u001b[0;34m,\u001b[0m\u001b[0my_train\u001b[0m\u001b[0;34m,\u001b[0m\u001b[0mcv\u001b[0m\u001b[0;34m=\u001b[0m\u001b[0;36m10\u001b[0m\u001b[0;34m)\u001b[0m\u001b[0;34m)\u001b[0m\u001b[0;34m\u001b[0m\u001b[0m\n",
      "\u001b[0;31mNameError\u001b[0m: name 'perceptron_model_normal' is not defined"
     ]
    }
   ],
   "source": [
    "#For Trial 0\n",
    "\n",
    "trial_0_perceptron_normal = perceptron_model_normal.score(X_train,y_train)\n",
    "trial_0_randomforest_normal = randomforest_model_normal.score(X_train,y_train)\n",
    "trial_0_perceptron_cv_normal = np.average(cross_val_score(perceptron_model_normal,X_train,y_train,cv=10))\n",
    "trial_0_randomforest_cv_normal = np.average(cross_val_score(randomforest_model_normal,X_train,y_train,cv=10))\n",
    "print(trial_0_perceptron_normal)\n",
    "print(trial_0_perceptron_cv_normal)\n",
    "print(trial_0_randomforest_normal)\n",
    "print(trial_0_randomforest_cv_normal)"
   ]
  },
  {
   "cell_type": "code",
   "execution_count": 9,
   "metadata": {},
   "outputs": [
    {
     "ename": "NameError",
     "evalue": "name 'perceptron_model_proportional' is not defined",
     "output_type": "error",
     "traceback": [
      "\u001b[0;31m---------------------------------------------------------------------------\u001b[0m",
      "\u001b[0;31mNameError\u001b[0m                                 Traceback (most recent call last)",
      "\u001b[0;32m<ipython-input-9-ec8b90790afc>\u001b[0m in \u001b[0;36m<module>\u001b[0;34m()\u001b[0m\n\u001b[1;32m      1\u001b[0m \u001b[0;31m#For Trial 1\u001b[0m\u001b[0;34m\u001b[0m\u001b[0;34m\u001b[0m\u001b[0m\n\u001b[1;32m      2\u001b[0m \u001b[0;34m\u001b[0m\u001b[0m\n\u001b[0;32m----> 3\u001b[0;31m \u001b[0mtrial_1_perceptron_proportional\u001b[0m \u001b[0;34m=\u001b[0m \u001b[0mperceptron_model_proportional\u001b[0m\u001b[0;34m.\u001b[0m\u001b[0mscore\u001b[0m\u001b[0;34m(\u001b[0m\u001b[0mX_train_proportional\u001b[0m\u001b[0;34m,\u001b[0m\u001b[0my_train_proportional\u001b[0m\u001b[0;34m)\u001b[0m\u001b[0;34m\u001b[0m\u001b[0m\n\u001b[0m\u001b[1;32m      4\u001b[0m \u001b[0mtrial_1_randomforest_proportional\u001b[0m \u001b[0;34m=\u001b[0m \u001b[0mrandomforest_model_normal\u001b[0m\u001b[0;34m.\u001b[0m\u001b[0mscore\u001b[0m\u001b[0;34m(\u001b[0m\u001b[0mX_train_proportional\u001b[0m \u001b[0;34m,\u001b[0m\u001b[0my_train_proportional\u001b[0m\u001b[0;34m)\u001b[0m\u001b[0;34m\u001b[0m\u001b[0m\n\u001b[1;32m      5\u001b[0m \u001b[0mtrial_1_perceptron_cv_proportional\u001b[0m \u001b[0;34m=\u001b[0m \u001b[0mnp\u001b[0m\u001b[0;34m.\u001b[0m\u001b[0maverage\u001b[0m\u001b[0;34m(\u001b[0m\u001b[0mcross_val_score\u001b[0m\u001b[0;34m(\u001b[0m\u001b[0mperceptron_model_proportional\u001b[0m\u001b[0;34m,\u001b[0m \u001b[0mX_train_proportional\u001b[0m\u001b[0;34m,\u001b[0m\u001b[0my_train_proportional\u001b[0m\u001b[0;34m,\u001b[0m\u001b[0mcv\u001b[0m\u001b[0;34m=\u001b[0m\u001b[0;36m10\u001b[0m\u001b[0;34m)\u001b[0m\u001b[0;34m)\u001b[0m\u001b[0;34m\u001b[0m\u001b[0m\n",
      "\u001b[0;31mNameError\u001b[0m: name 'perceptron_model_proportional' is not defined"
     ]
    }
   ],
   "source": [
    "#For Trial 1\n",
    "\n",
    "trial_1_perceptron_proportional = perceptron_model_proportional.score(X_train_proportional,y_train_proportional)\n",
    "trial_1_randomforest_proportional = randomforest_model_normal.score(X_train_proportional ,y_train_proportional)\n",
    "trial_1_perceptron_cv_proportional = np.average(cross_val_score(perceptron_model_proportional, X_train_proportional,y_train_proportional,cv=10))\n",
    "trial_1_randomforest_cv_proportional = np.average(cross_val_score(randomforest_model_proportional, X_train_proportional,y_train_proportional,cv=10))\n",
    "print(trial_1_perceptron_proportional)\n",
    "print(trial_1_perceptron_cv_proportional)\n",
    "print(trial_1_randomforest_proportional)\n",
    "print(trial_1_randomforest_cv_proportional)"
   ]
  },
  {
   "cell_type": "code",
   "execution_count": null,
   "metadata": {
    "collapsed": true
   },
   "outputs": [],
   "source": [
    "cancerous = X_train[y_train==1]\n",
    "non_cancerous  = X_train[y_train==0]"
   ]
  },
  {
   "cell_type": "code",
   "execution_count": null,
   "metadata": {
    "collapsed": true
   },
   "outputs": [],
   "source": [
    "trial_1_cancerous = perceptron_model.score(cancerous,y_train[y_train==1])\n",
    "print(trial_1_cancerous)"
   ]
  },
  {
   "cell_type": "code",
   "execution_count": null,
   "metadata": {
    "collapsed": true
   },
   "outputs": [],
   "source": [
    "trial_2_cancerous = clf2.score(cancerous, y_train[y_train==1])\n",
    "trial_1_non_cancerous = clf1.score(non_cancerous,y_train[y_train==0])\n",
    "trial_2_non_cancerous = clf2.score(non_cancerous,y_train[y_train==0])\n",
    "#score_cv_per_can = cross_val_score(clf1, cancerous, y_train[y_train==1], cv=10)\n",
    "#score_cv_per_noncan = cross_val_score(clf1, non_cancerous, y_train[y_train==0], cv=10)\n",
    "#score_cv_rf_can = cross_val_score(clf2, cancerous, y_train[y_train==1], cv=10)\n",
    "#score_cv_rf_noncan = cross_val_score(clf2, non_cancerous, y_train[y_train==0], cv=10)\n",
    "\n",
    "\n",
    "print(trial_2_cancerous)\n",
    "print(trial_1_non_cancerous)\n",
    "print(trial_2_non_cancerous)\n",
    "#print(\"perceptron_cancerous\"+score_cv_per_can)\n",
    "#print(score_cv_per_can)"
   ]
  },
  {
   "cell_type": "markdown",
   "metadata": {},
   "source": [
    "Insights till now:\n",
    "- Ran Perceptron: simple score using entire training data: 96% . 10-Fold Cross Validation using entire training data: 94.5% \n",
    "- Perceptron on cancerous training data: 67.34% |  Perceptron on non cancerous training data = 98%\n",
    "- Decision Tree on cancerous training data: 16.32% | Decision Tree on non cancerous training data = 99.57% \n",
    "\n",
    "Notes:\n",
    "    Dataset Modification: We split it up into 6/7 ths of the cancerous data in one set and 1/7 of the non cancerous data in one set in order to ensure consistency in proportions in every test run.\n",
    "TODO:\n",
    "    -Weighted Perceptron\n",
    "    -Penalized Perceptron\n",
    "    -Linear SVM\n",
    "    -Linear SVM with rbf kernel\n",
    "    -OneclassSVM"
   ]
  },
  {
   "cell_type": "code",
   "execution_count": 258,
   "metadata": {},
   "outputs": [
    {
     "name": "stdout",
     "output_type": "stream",
     "text": [
      "0.982608695652\n"
     ]
    }
   ],
   "source": [
    "#Balanced Perceptron\n",
    "\n",
    "#Training balanced model and computing normal score\n",
    "perceptron_model_balanced = Perceptron(max_iter=1000, tol=None, class_weight =\"balanced\")\n",
    "perceptron_model_balanced.fit(X_train,y_train)\n",
    "perceptron_score_cv_balanced = np.average(cross_val_score(perceptron_model_balanced, X_train, y_train, cv=10))\n",
    "perceptron_score_balanced = perceptron_model_balanced.score(X_train,y_train)\n",
    "\n",
    "print(perceptron_model_balanced.score(X_non_cancerous_test,y_non_cancerous_test))"
   ]
  },
  {
   "cell_type": "code",
   "execution_count": 1,
   "metadata": {},
   "outputs": [
    {
     "ename": "NameError",
     "evalue": "name 'perceptron_score_cv_balanced' is not defined",
     "output_type": "error",
     "traceback": [
      "\u001b[0;31m---------------------------------------------------------------------------\u001b[0m",
      "\u001b[0;31mNameError\u001b[0m                                 Traceback (most recent call last)",
      "\u001b[0;32m<ipython-input-1-d43420ae0365>\u001b[0m in \u001b[0;36m<module>\u001b[0;34m()\u001b[0m\n\u001b[0;32m----> 1\u001b[0;31m \u001b[0mprint\u001b[0m\u001b[0;34m(\u001b[0m\u001b[0mperceptron_score_cv_balanced\u001b[0m\u001b[0;34m)\u001b[0m\u001b[0;34m\u001b[0m\u001b[0m\n\u001b[0m\u001b[1;32m      2\u001b[0m \u001b[0mprint\u001b[0m\u001b[0;34m(\u001b[0m\u001b[0mperceptron_score_balanced\u001b[0m\u001b[0;34m)\u001b[0m\u001b[0;34m\u001b[0m\u001b[0m\n\u001b[1;32m      3\u001b[0m \u001b[0mprint\u001b[0m\u001b[0;34m(\u001b[0m\u001b[0mperceptron_model_balanced\u001b[0m\u001b[0;34m.\u001b[0m\u001b[0mscore\u001b[0m\u001b[0;34m(\u001b[0m\u001b[0mX_cancerous_test\u001b[0m\u001b[0;34m,\u001b[0m\u001b[0my_cancerous_test\u001b[0m\u001b[0;34m)\u001b[0m\u001b[0;34m)\u001b[0m\u001b[0;34m\u001b[0m\u001b[0m\n",
      "\u001b[0;31mNameError\u001b[0m: name 'perceptron_score_cv_balanced' is not defined"
     ]
    }
   ],
   "source": [
    "print(perceptron_score_cv_balanced)\n",
    "print(perceptron_score_balanced)\n",
    "print(perceptron_model_balanced.score(X_cancerous_test,y_cancerous_test))"
   ]
  },
  {
   "cell_type": "code",
   "execution_count": 296,
   "metadata": {
    "collapsed": true
   },
   "outputs": [],
   "source": [
    "#Balanced Random Forest\n",
    "\n",
    "randomforest_model_balanced=RandomForestClassifier(min_samples_leaf= 10, class_weight = \"balanced\",n_estimators=100)\n",
    "randomforest_model_balanced.fit(X_train, y_train)\n",
    "score_randomforest_model_balanced = randomforest_model_balanced.score(X_train, y_train)\n",
    "score_cv_randomforest_model_balanced = np.average(cross_val_score(randomforest_model_balanced, X_train, y_train, cv=10))\n",
    "\n"
   ]
  },
  {
   "cell_type": "code",
   "execution_count": 295,
   "metadata": {},
   "outputs": [
    {
     "name": "stdout",
     "output_type": "stream",
     "text": [
      "0.96\n",
      "0.957308677098\n",
      "0.875\n"
     ]
    }
   ],
   "source": [
    "print(score_randomforest_model_balanced)\n",
    "print(score_cv_randomforest_model_balanced)\n",
    "\n",
    "print(randomforest_model_balanced.score(X_cancerous_test,y_cancerous_test))"
   ]
  },
  {
   "cell_type": "code",
   "execution_count": 267,
   "metadata": {
    "collapsed": true
   },
   "outputs": [],
   "source": [
    "#Running svm using RBF Kernel\n",
    "\n",
    "from sklearn import svm \n",
    "\n",
    "svm_model_normal = svm.SVC()\n",
    "svm_model_normal.fit(X_train, y_train)\n",
    "score_svm_model_normal = svm_model_normal.score(X_train, y_train)\n",
    "score_cv_svm_model_normal = np.average(cross_val_score(svm_model_normal, X_train, y_train, cv = 10))"
   ]
  },
  {
   "cell_type": "code",
   "execution_count": 272,
   "metadata": {
    "collapsed": true
   },
   "outputs": [],
   "source": [
    "svm_model_balanced = svm.SVC(class_weight='balanced')\n",
    "svm_model_balanced.fit(X_train, y_train)\n",
    "score_svm_model_balanced = svm_model_balanced.score(X_train, y_train)\n",
    "score_cv_svm_model_balanced = np.average(cross_val_score(svm_model_balanced, X_train, y_train, cv = 10))"
   ]
  },
  {
   "cell_type": "code",
   "execution_count": 277,
   "metadata": {
    "collapsed": true
   },
   "outputs": [],
   "source": [
    "svm_model_proportional = svm.SVC()\n",
    "svm_model_proportional.fit(X_train_proportional, y_train_proportional)\n",
    "score_svm_model_proportional = svm_model_proportional.score(X_train_proportional, y_train_proportional)\n",
    "score_cv_svm_model_proportional = np.average(cross_val_score(svm_model_proportional, X_train_proportional, y_train_proportional, cv = 10))"
   ]
  },
  {
   "cell_type": "code",
   "execution_count": 285,
   "metadata": {},
   "outputs": [
    {
     "name": "stdout",
     "output_type": "stream",
     "text": [
      "0.944\n",
      "0.938729255571\n",
      "0.125\n"
     ]
    }
   ],
   "source": [
    "print(score_svm_model_normal)\n",
    "print(score_cv_svm_model_normal)\n",
    "\n",
    "print(svm_model_normal.score(X_cancerous_test,y_cancerous_test))"
   ]
  },
  {
   "cell_type": "code",
   "execution_count": 287,
   "metadata": {},
   "outputs": [
    {
     "name": "stdout",
     "output_type": "stream",
     "text": [
      "0.977333333333\n",
      "0.927901375059\n",
      "0.875\n"
     ]
    }
   ],
   "source": [
    "print(score_svm_model_balanced)\n",
    "print(score_cv_svm_model_balanced)\n",
    "\n",
    "print(svm_model_balanced.score(X_cancerous_test,y_cancerous_test))"
   ]
  },
  {
   "cell_type": "code",
   "execution_count": 284,
   "metadata": {},
   "outputs": [
    {
     "name": "stdout",
     "output_type": "stream",
     "text": [
      "0.941496598639\n",
      "0.936112139537\n",
      "0.0\n"
     ]
    }
   ],
   "source": [
    "print(score_svm_model_proportional)\n",
    "print(score_cv_svm_model_proportional)\n",
    "\n",
    "print(svm_model_proportional.score(X_cancerous_test,y_cancerous_test))"
   ]
  },
  {
   "cell_type": "code",
   "execution_count": null,
   "metadata": {
    "collapsed": true
   },
   "outputs": [],
   "source": []
  },
  {
   "cell_type": "code",
   "execution_count": null,
   "metadata": {
    "collapsed": true
   },
   "outputs": [],
   "source": []
  }
 ],
 "metadata": {
  "kernelspec": {
   "display_name": "Python 3",
   "language": "python",
   "name": "python3"
  },
  "language_info": {
   "codemirror_mode": {
    "name": "ipython",
    "version": 3
   },
   "file_extension": ".py",
   "mimetype": "text/x-python",
   "name": "python",
   "nbconvert_exporter": "python",
   "pygments_lexer": "ipython3",
   "version": "3.6.1"
  }
 },
 "nbformat": 4,
 "nbformat_minor": 2
}
